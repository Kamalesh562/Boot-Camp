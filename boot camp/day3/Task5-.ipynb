{
 "cells": [
  {
   "cell_type": "code",
   "execution_count": 1,
   "id": "7081b16b",
   "metadata": {},
   "outputs": [
    {
     "name": "stdout",
     "output_type": "stream",
     "text": [
      "Dog is barking\n",
      "Dog is sleeping\n",
      "cat is meowing\n",
      "cat is puring\n",
      "Hybrid is speaking.\n"
     ]
    }
   ],
   "source": [
    "class Dog:\n",
    "    \n",
    "    def bark(self):\n",
    "        return \"Dog is barking\"\n",
    "\n",
    "    def sleep(self):\n",
    "        return \"Dog is sleeping\"\n",
    "class Cat:\n",
    "    def meow(self):\n",
    "        return \"cat is meowing\"\n",
    "    def purr(self):\n",
    "        return \"cat is puring\"\n",
    "\n",
    "class Hybrid(Dog, Cat):\n",
    "    def speak(self):\n",
    "        return \"Hybrid is speaking.\"\n",
    "       \n",
    "   \n",
    "hybrid = Hybrid()\n",
    "\n",
    "\n",
    "print(hybrid.bark())   \n",
    "print(hybrid.sleep())  \n",
    "print(hybrid.meow())   \n",
    "print(hybrid.purr())   \n",
    "print(hybrid.speak())"
   ]
  },
  {
   "cell_type": "code",
   "execution_count": null,
   "id": "6d957cde",
   "metadata": {},
   "outputs": [],
   "source": []
  }
 ],
 "metadata": {
  "kernelspec": {
   "display_name": "base",
   "language": "python",
   "name": "python3"
  },
  "language_info": {
   "codemirror_mode": {
    "name": "ipython",
    "version": 3
   },
   "file_extension": ".py",
   "mimetype": "text/x-python",
   "name": "python",
   "nbconvert_exporter": "python",
   "pygments_lexer": "ipython3",
   "version": "3.12.4"
  }
 },
 "nbformat": 4,
 "nbformat_minor": 5
}
