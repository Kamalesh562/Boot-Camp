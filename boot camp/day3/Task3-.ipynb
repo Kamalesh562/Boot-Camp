{
 "cells": [
  {
   "cell_type": "code",
   "execution_count": 1,
   "id": "9b2a9229",
   "metadata": {},
   "outputs": [
    {
     "name": "stdout",
     "output_type": "stream",
     "text": [
      "Sweety is barking!\n",
      "Sweety is sleeping.\n",
      "Tiger is barking!\n",
      "Tiger is sleeping.\n",
      "Tiger is playing!\n"
     ]
    }
   ],
   "source": [
    "class Dog:\n",
    "    def __init__(self, name, age):\n",
    "        self.name = name\n",
    "        self.age = age\n",
    "\n",
    "    def bark(self):\n",
    "        return f\"{self.name} is barking!\"\n",
    "\n",
    "    def sleep(self):\n",
    "        return f\"{self.name} is sleeping.\"\n",
    "        \n",
    "my_dog = Dog(\"Sweety\", 3)\n",
    "print(my_dog.bark()) \n",
    "print(my_dog.sleep()) \n",
    "\n",
    "class Puppy(Dog):\n",
    "    def play(self):\n",
    "        return f\"{self.name} is playing!\"\n",
    "\n",
    "my_puppy = Puppy(\"Tiger\", 1)\n",
    "print(my_puppy.bark())  \n",
    "print(my_puppy.sleep())  \n",
    "print(my_puppy.play())  \n"
   ]
  },
  {
   "cell_type": "code",
   "execution_count": null,
   "id": "cec0f2ac",
   "metadata": {},
   "outputs": [],
   "source": []
  }
 ],
 "metadata": {
  "kernelspec": {
   "display_name": "base",
   "language": "python",
   "name": "python3"
  },
  "language_info": {
   "codemirror_mode": {
    "name": "ipython",
    "version": 3
   },
   "file_extension": ".py",
   "mimetype": "text/x-python",
   "name": "python",
   "nbconvert_exporter": "python",
   "pygments_lexer": "ipython3",
   "version": "3.12.4"
  }
 },
 "nbformat": 4,
 "nbformat_minor": 5
}
