{
 "cells": [
  {
   "cell_type": "code",
   "execution_count": 1,
   "id": "6362d5f1-d371-4282-904e-bd8bfeceee09",
   "metadata": {},
   "outputs": [
    {
     "name": "stdout",
     "output_type": "stream",
     "text": [
      "'Robot' object has no attribute '__energy_level'\n",
      "50\n",
      "80\n",
      "Invalid energy level. It should be between 0 and 100.\n",
      "90\n",
      "100\n",
      "RoboModelX\n"
     ]
    }
   ],
   "source": [
    "class Robot:\n",
    "    def __init__(self, model, energy_level):\n",
    "        self._model = model   \n",
    "        self.__energy_level = energy_level  \n",
    "    def get_energy(self):\n",
    "        return self.__energy_level\n",
    "\n",
    "    def set_energy(self, energy):\n",
    "        if 0 <= energy <= 100:  \n",
    "            self.__energy_level = energy\n",
    "        else:\n",
    "            print(\"Invalid energy level. It should be between 0 and 100.\")\n",
    "    def charge(self, amount):\n",
    "        new_energy = self.__energy_level + amount\n",
    "        if new_energy > 100:\n",
    "            self.__energy_level = 100\n",
    "        else:\n",
    "            self.__energy_level = new_energy\n",
    "robot = Robot(\"RoboModelX\", 50)\n",
    "try:\n",
    "    print(robot.__energy_level)\n",
    "except AttributeError as e:\n",
    "    print(e) \n",
    "print(robot.get_energy())  \n",
    "robot.set_energy(80)\n",
    "print(robot.get_energy())\n",
    "robot.set_energy(150)  \n",
    "robot.charge(10)\n",
    "print(robot.get_energy())\n",
    "robot.charge(20)  \n",
    "print(robot.get_energy())\n",
    "print(robot._model) \n",
    "\n",
    "\n",
    "\n"
   ]
  },
  {
   "cell_type": "code",
   "execution_count": null,
   "id": "bfa6d2b3-5895-497e-828d-93befe936184",
   "metadata": {},
   "outputs": [],
   "source": []
  }
 ],
 "metadata": {
  "kernelspec": {
   "display_name": "Python 3 (ipykernel)",
   "language": "python",
   "name": "python3"
  },
  "language_info": {
   "codemirror_mode": {
    "name": "ipython",
    "version": 3
   },
   "file_extension": ".py",
   "mimetype": "text/x-python",
   "name": "python",
   "nbconvert_exporter": "python",
   "pygments_lexer": "ipython3",
   "version": "3.12.4"
  }
 },
 "nbformat": 4,
 "nbformat_minor": 5
}
