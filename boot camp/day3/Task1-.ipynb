{
 "cells": [
  {
   "cell_type": "code",
   "execution_count": 2,
   "id": "cf81dbe1-936a-424d-b871-7eb4bc7dda61",
   "metadata": {},
   "outputs": [
    {
     "name": "stdout",
     "output_type": "stream",
     "text": [
      "Tom is barking!\n"
     ]
    }
   ],
   "source": [
    "class Dog:\n",
    "    def __init__(self, name, age):\n",
    "        self.name = name\n",
    "        self.age = age\n",
    "    def bark(self):\n",
    "        return f\"{self.name} is barking!\"\n",
    "    def sleep(self):\n",
    "        return f\"{self.name} is sleeping.\"\n",
    "my_dog = Dog(\"Tom\", 4)\n",
    "print(my_dog.bark()) "
   ]
  },
  {
   "cell_type": "code",
   "execution_count": 20,
   "id": "52fc28e1-5e5b-4a01-8a0d-f4cdb89e1e42",
   "metadata": {},
   "outputs": [
    {
     "name": "stdout",
     "output_type": "stream",
     "text": [
      "Sweety is barking!\n",
      "Sweety is sleeping.\n",
      "Tiger is barking!\n",
      "Tiger is sleeping.\n",
      "Tiger is playing!\n"
     ]
    }
   ],
   "source": []
  },
  {
   "cell_type": "code",
   "execution_count": 1,
   "id": "0f83e740-1a08-4e5a-a70b-de9c57c8b1ff",
   "metadata": {},
   "outputs": [
    {
     "name": "stdout",
     "output_type": "stream",
     "text": [
      "'Robot' object has no attribute '__energy_level'\n",
      "50\n",
      "80\n",
      "Invalid energy level. It should be between 0 and 100.\n",
      "90\n",
      "100\n",
      "RoboModelX\n"
     ]
    }
   ],
   "source": []
  },
  {
   "cell_type": "code",
   "execution_count": 2,
   "id": "5b49cc26-8723-43b8-8b80-07f818e74866",
   "metadata": {},
   "outputs": [
    {
     "name": "stdout",
     "output_type": "stream",
     "text": [
      "Dog is barking\n",
      "Dog is sleeping\n",
      "cat is meowing\n",
      "cat is puring\n",
      "Hybrid is speaking.\n"
     ]
    }
   ],
   "source": []
  },
  {
   "cell_type": "code",
   "execution_count": null,
   "id": "292157c6-9c9c-45ef-b83e-1fc82e67383d",
   "metadata": {},
   "outputs": [],
   "source": []
  }
 ],
 "metadata": {
  "kernelspec": {
   "display_name": "Python 3 (ipykernel)",
   "language": "python",
   "name": "python3"
  },
  "language_info": {
   "codemirror_mode": {
    "name": "ipython",
    "version": 3
   },
   "file_extension": ".py",
   "mimetype": "text/x-python",
   "name": "python",
   "nbconvert_exporter": "python",
   "pygments_lexer": "ipython3",
   "version": "3.12.4"
  }
 },
 "nbformat": 4,
 "nbformat_minor": 5
}
